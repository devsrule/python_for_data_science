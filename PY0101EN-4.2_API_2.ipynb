{
 "cells": [
  {
   "cell_type": "markdown",
   "metadata": {},
   "source": [
    "<a href=\"https://cognitiveclass.ai/\">\n",
    "    <img src=\"https://s3-api.us-geo.objectstorage.softlayer.net/cf-courses-data/CognitiveClass/PY0101EN/Ad/CCLog.png\" width=\"200\" align=\"center\">\n",
    "</a>\n",
    "\n",
    "<h1 align=\"center\"><font size=\"5\"><b>Application Programming Interface</b></font></h1>"
   ]
  },
  {
   "cell_type": "markdown",
   "metadata": {},
   "source": [
    "<p>In this notebook, you will learn to convert an audio file of an English speaker to text using a Speech to Text API. Then you will translate the English version to a Spanish version using a Language Translator API. <b>Note:</b> You must obtain the API keys and enpoints to complete the lab.</p>"
   ]
  },
  {
   "cell_type": "markdown",
   "metadata": {},
   "source": [
    "<div class=\"alert alert-block alert-info\" style=\"margin-top: 20px\">\n",
    "    <a href=\"https://cocl.us/topNotebooksPython101Coursera\">\n",
    "         <img src=\"https://s3-api.us-geo.objectstorage.softlayer.net/cf-courses-data/CognitiveClass/PY0101EN/Ad/TopAd.png\" width=\"750\" align=\"center\">\n",
    "    </a>\n",
    "</div>"
   ]
  },
  {
   "cell_type": "markdown",
   "metadata": {},
   "source": [
    "<div class=\"alert alert-block alert-info\" style=\"margin-top: 20px\">\n",
    "<h2>Table of Contents</h2>\n",
    "<ul>\n",
    "    <li><a href=\"#ref0\">Speech To Text</a></li>\n",
    "    <li><a href=\"#ref1\">Language Translator</a></li>\n",
    "    <li><a href=\"#ref2\">Exercise</a></li>\n",
    "</ul>\n",
    "<br>\n",
    "<p>Estimated Time Needed: <strong>25 min</strong></p>\n",
    "</div>"
   ]
  },
  {
   "cell_type": "code",
   "execution_count": 1,
   "metadata": {
    "collapsed": false,
    "jupyter": {
     "outputs_hidden": false
    }
   },
   "outputs": [
    {
     "name": "stdout",
     "output_type": "stream",
     "text": [
      "Collecting ibm_watson\n",
      "\u001b[?25l  Downloading https://files.pythonhosted.org/packages/36/01/a05ed4557dbeebd95b3dcda2d01ae66f94b1aa4700bc4a8a8713c77cfeda/ibm-watson-4.4.1.tar.gz (366kB)\n",
      "\u001b[K     |████████████████████████████████| 368kB 24.0MB/s eta 0:00:01\n",
      "\u001b[?25hCollecting wget\n",
      "  Downloading https://files.pythonhosted.org/packages/47/6a/62e288da7bcda82b935ff0c6cfe542970f04e29c756b0e147251b2fb251f/wget-3.2.zip\n",
      "Requirement already satisfied: requests<3.0,>=2.0 in /home/jupyterlab/conda/envs/python/lib/python3.6/site-packages (from ibm_watson) (2.23.0)\n",
      "Requirement already satisfied: python_dateutil>=2.5.3 in /home/jupyterlab/conda/envs/python/lib/python3.6/site-packages (from ibm_watson) (2.8.1)\n",
      "Collecting websocket-client==0.48.0 (from ibm_watson)\n",
      "\u001b[?25l  Downloading https://files.pythonhosted.org/packages/8a/a1/72ef9aa26cfe1a75cee09fc1957e4723add9de098c15719416a1ee89386b/websocket_client-0.48.0-py2.py3-none-any.whl (198kB)\n",
      "\u001b[K     |████████████████████████████████| 204kB 33.0MB/s eta 0:00:01\n",
      "\u001b[?25hCollecting ibm_cloud_sdk_core==1.5.1 (from ibm_watson)\n",
      "  Downloading https://files.pythonhosted.org/packages/b7/f6/10d5271c807d73d236e6ae07b68035fed78b28b5ab836704d34097af3986/ibm-cloud-sdk-core-1.5.1.tar.gz\n",
      "Requirement already satisfied: certifi>=2017.4.17 in /home/jupyterlab/conda/envs/python/lib/python3.6/site-packages (from requests<3.0,>=2.0->ibm_watson) (2020.4.5.1)\n",
      "Requirement already satisfied: chardet<4,>=3.0.2 in /home/jupyterlab/conda/envs/python/lib/python3.6/site-packages (from requests<3.0,>=2.0->ibm_watson) (3.0.4)\n",
      "Requirement already satisfied: urllib3!=1.25.0,!=1.25.1,<1.26,>=1.21.1 in /home/jupyterlab/conda/envs/python/lib/python3.6/site-packages (from requests<3.0,>=2.0->ibm_watson) (1.25.9)\n",
      "Requirement already satisfied: idna<3,>=2.5 in /home/jupyterlab/conda/envs/python/lib/python3.6/site-packages (from requests<3.0,>=2.0->ibm_watson) (2.9)\n",
      "Requirement already satisfied: six>=1.5 in /home/jupyterlab/conda/envs/python/lib/python3.6/site-packages (from python_dateutil>=2.5.3->ibm_watson) (1.14.0)\n",
      "Collecting PyJWT>=1.7.1 (from ibm_cloud_sdk_core==1.5.1->ibm_watson)\n",
      "  Downloading https://files.pythonhosted.org/packages/87/8b/6a9f14b5f781697e51259d81657e6048fd31a113229cf346880bb7545565/PyJWT-1.7.1-py2.py3-none-any.whl\n",
      "Building wheels for collected packages: ibm-watson, wget, ibm-cloud-sdk-core\n",
      "  Building wheel for ibm-watson (setup.py) ... \u001b[?25ldone\n",
      "\u001b[?25h  Stored in directory: /home/jupyterlab/.cache/pip/wheels/73/21/91/61a59270c329be2edc947c69871c25c50bf7dd87ebbfe07cdc\n",
      "  Building wheel for wget (setup.py) ... \u001b[?25ldone\n",
      "\u001b[?25h  Stored in directory: /home/jupyterlab/.cache/pip/wheels/40/15/30/7d8f7cea2902b4db79e3fea550d7d7b85ecb27ef992b618f3f\n",
      "  Building wheel for ibm-cloud-sdk-core (setup.py) ... \u001b[?25ldone\n",
      "\u001b[?25h  Stored in directory: /home/jupyterlab/.cache/pip/wheels/6a/42/50/f96888116b329578304f9dda4693cef6f3e76e18272d22cb6c\n",
      "Successfully built ibm-watson wget ibm-cloud-sdk-core\n",
      "Installing collected packages: websocket-client, PyJWT, ibm-cloud-sdk-core, ibm-watson, wget\n",
      "Successfully installed PyJWT-1.7.1 ibm-cloud-sdk-core-1.5.1 ibm-watson-4.4.1 websocket-client-0.48.0 wget-3.2\n"
     ]
    }
   ],
   "source": [
    "#you will need the following library \n",
    "!pip install ibm_watson wget"
   ]
  },
  {
   "cell_type": "markdown",
   "metadata": {},
   "source": [
    "<h2 id=\"ref0\">Speech to Text</h2>"
   ]
  },
  {
   "cell_type": "markdown",
   "metadata": {},
   "source": [
    "<p>First we import <code>SpeechToTextV1</code> from <code>ibm_watson</code>.For more information on the API, please click on this <a href=\"https://cloud.ibm.com/apidocs/speech-to-text?code=python\">link</a></p>"
   ]
  },
  {
   "cell_type": "code",
   "execution_count": 2,
   "metadata": {
    "collapsed": false,
    "jupyter": {
     "outputs_hidden": false
    }
   },
   "outputs": [],
   "source": [
    "from ibm_watson import SpeechToTextV1 \n",
    "import json\n",
    "from ibm_cloud_sdk_core.authenticators import IAMAuthenticator"
   ]
  },
  {
   "cell_type": "markdown",
   "metadata": {},
   "source": [
    "<p>The service endpoint is based on the location of the service instance, we store the information in the variable URL. To find out which URL to use, view the service credentials.</p>"
   ]
  },
  {
   "cell_type": "code",
   "execution_count": 16,
   "metadata": {},
   "outputs": [],
   "source": [
    "#url_s2t = \"https://stream.watsonplatform.net/speech-to-text/api\"\n",
    "url_s2t = \"https://api.us-south.speech-to-text.watson.cloud.ibm.com/instances/d7f0c3ee-a2f0-43e6-9150-d9d08642a13f\""
   ]
  },
  {
   "cell_type": "markdown",
   "metadata": {},
   "source": [
    "<p>You require an API key, and you can obtain the key on the <a href=\"https://cloud.ibm.com/resources\">Dashboard </a>.</p>"
   ]
  },
  {
   "cell_type": "code",
   "execution_count": 17,
   "metadata": {
    "collapsed": false,
    "jupyter": {
     "outputs_hidden": false
    }
   },
   "outputs": [],
   "source": [
    "iam_apikey_s2t = \"tVE3Yh1Prnh3WOnTbPELoAtfUCZJl9_XQbaOpFa0Nl-o\""
   ]
  },
  {
   "cell_type": "markdown",
   "metadata": {},
   "source": [
    "<p>You create a <a href=\"http://watson-developer-cloud.github.io/python-sdk/v0.25.0/apis/watson_developer_cloud.speech_to_text_v1.html\">Speech To Text Adapter object</a> the parameters are the  endpoint and API key.</p>"
   ]
  },
  {
   "cell_type": "code",
   "execution_count": 18,
   "metadata": {},
   "outputs": [
    {
     "data": {
      "text/plain": [
       "<ibm_watson.speech_to_text_v1_adapter.SpeechToTextV1Adapter at 0x7f0a60d1c978>"
      ]
     },
     "execution_count": 18,
     "metadata": {},
     "output_type": "execute_result"
    }
   ],
   "source": [
    "authenticator = IAMAuthenticator(iam_apikey_s2t)\n",
    "s2t = SpeechToTextV1(authenticator=authenticator)\n",
    "s2t.set_service_url(url_s2t)\n",
    "s2t"
   ]
  },
  {
   "cell_type": "markdown",
   "metadata": {},
   "source": [
    "<p>Lets download the audio file that we will use to convert into text.</p>"
   ]
  },
  {
   "cell_type": "code",
   "execution_count": 7,
   "metadata": {},
   "outputs": [
    {
     "name": "stdout",
     "output_type": "stream",
     "text": [
      "--2020-05-17 20:50:22--  https://s3-api.us-geo.objectstorage.softlayer.net/cf-courses-data/CognitiveClass/PY0101EN/labs/PolynomialRegressionandPipelines.mp3\n",
      "Resolving s3-api.us-geo.objectstorage.softlayer.net (s3-api.us-geo.objectstorage.softlayer.net)... 67.228.254.196\n",
      "Connecting to s3-api.us-geo.objectstorage.softlayer.net (s3-api.us-geo.objectstorage.softlayer.net)|67.228.254.196|:443... connected.\n",
      "HTTP request sent, awaiting response... 200 OK\n",
      "Length: 4234179 (4.0M) [audio/mpeg]\n",
      "Saving to: ‘PolynomialRegressionandPipelines.mp3’\n",
      "\n",
      "PolynomialRegressio 100%[===================>]   4.04M  5.92MB/s    in 0.7s    \n",
      "\n",
      "2020-05-17 20:50:23 (5.92 MB/s) - ‘PolynomialRegressionandPipelines.mp3’ saved [4234179/4234179]\n",
      "\n"
     ]
    }
   ],
   "source": [
    "!wget -O PolynomialRegressionandPipelines.mp3  https://s3-api.us-geo.objectstorage.softlayer.net/cf-courses-data/CognitiveClass/PY0101EN/labs/PolynomialRegressionandPipelines.mp3\n",
    "\n"
   ]
  },
  {
   "cell_type": "markdown",
   "metadata": {},
   "source": [
    "<p>We have the path of the wav file we would like to convert to text</p>"
   ]
  },
  {
   "cell_type": "code",
   "execution_count": 20,
   "metadata": {
    "collapsed": false,
    "jupyter": {
     "outputs_hidden": false
    }
   },
   "outputs": [
    {
     "data": {
      "text/plain": [
       "'PolynomialRegressionandPipelines.mp3'"
      ]
     },
     "execution_count": 20,
     "metadata": {},
     "output_type": "execute_result"
    }
   ],
   "source": [
    "filename='PolynomialRegressionandPipelines.mp3'\n",
    "filename"
   ]
  },
  {
   "cell_type": "markdown",
   "metadata": {},
   "source": [
    "<p>We create the file object <code>wav</code> with the wav file using  <code>open</code> ; we set the <code>mode</code> to  \"rb\" ,  this is similar to read mode, but it ensures the file is in binary mode.We use the method <code>recognize</code> to return the recognized text. The parameter audio is the file object <code>wav</code>, the parameter <code>content_type</code> is the format of the audio file.</p>"
   ]
  },
  {
   "cell_type": "code",
   "execution_count": 21,
   "metadata": {
    "collapsed": false,
    "jupyter": {
     "outputs_hidden": false
    }
   },
   "outputs": [],
   "source": [
    "with open(filename, mode=\"rb\")  as wav:\n",
    "    response = s2t.recognize(audio=wav, content_type='audio/mp3')"
   ]
  },
  {
   "cell_type": "markdown",
   "metadata": {},
   "source": [
    "<p>The attribute result contains a dictionary that includes the translation:</p>"
   ]
  },
  {
   "cell_type": "code",
   "execution_count": 22,
   "metadata": {},
   "outputs": [
    {
     "data": {
      "text/plain": [
       "{'results': [{'alternatives': [{'confidence': 0.93,\n",
       "     'transcript': 'in this video we will cover polynomial regression and pipelines '}],\n",
       "   'final': True},\n",
       "  {'alternatives': [{'confidence': 0.9,\n",
       "     'transcript': \"what do we do when a linear model is not the best fit for our data let's look into another type of regression model the polynomial regression we transform our data into a polynomial then use linear regression to fit the parameters that we will discuss pipelines pipelines are way to simplify your code \"}],\n",
       "   'final': True},\n",
       "  {'alternatives': [{'confidence': 0.95,\n",
       "     'transcript': \"polynomial regression is a special case of the general linear regression this method is beneficial for describing curvilinear relationships what is a curvilinear relationship it's what you get by squaring or setting higher order terms of the predictor variables in the model transforming the data the model can be quadratic which means the predictor variable in the model is squared we use a bracket to indicated as an exponent this is the second order polynomial regression with a figure representing the function \"}],\n",
       "   'final': True},\n",
       "  {'alternatives': [{'confidence': 0.95,\n",
       "     'transcript': 'the model can be cubic which means the predictor variable is cute this is the third order polynomial regression we see by examining the figure that the function has more variation '}],\n",
       "   'final': True},\n",
       "  {'alternatives': [{'confidence': 0.91,\n",
       "     'transcript': \"there also exists higher order polynomial regressions when a good fit hasn't been achieved by second or third order we can see in figures how much the graphs change when we change the order of the polynomial regression the degree of the regression makes a big difference and can result in a better fit if you pick the right value in all cases the relationship between the variable in the parameter is always linear \"}],\n",
       "   'final': True},\n",
       "  {'alternatives': [{'confidence': 0.89,\n",
       "     'transcript': \"let's look at an example from our data we generate a polynomial regression model \"}],\n",
       "   'final': True},\n",
       "  {'alternatives': [{'confidence': 0.92,\n",
       "     'transcript': 'in python we do this by using the poly fit function in this example we develop a third order polynomial regression model base we can print out the model symbolic form for the model is given by the following expression '}],\n",
       "   'final': True},\n",
       "  {'alternatives': [{'confidence': 0.9,\n",
       "     'transcript': \"negative one point five five seven X. one cute plus two hundred four point eight X. one squared plus eight thousand nine hundred sixty five X. one plus one point three seven times ten to the power of five we can also have multi dimensional polynomial linear regression the expression can get complicated here are just some of the terms for two dimensional second order polynomial none pies poly fit function cannot perform this type of regression we use the preprocessing librarian scikit learn to create a polynomial feature object the constructor takes the degree of the polynomial as a parameter then we transform the features into a polynomial feature with the fit underscore transform method let's do a more intuitive example \"}],\n",
       "   'final': True},\n",
       "  {'alternatives': [{'confidence': 0.9,\n",
       "     'transcript': 'consider the feature shown here applying the method we transform the data we now have a new set of features that are transformed version of our original features as that I mention of the data gets larger we may want to normalize multiple features as scikit learn instead we can use the preprocessing module to simplify many tasks for example we can standardize each feature simultaneously we import standard scaler we train the object fit the scale object then transform the data into a new data frame on a rate X. underscore scale there are more normalization methods available in the pre processing library as well as other transformations we can simplify our code by using a pipeline library there are many steps to getting a prediction for example normalization polynomial transform and linear regression we simplify the process using a pipeline '}],\n",
       "   'final': True},\n",
       "  {'alternatives': [{'confidence': 0.89,\n",
       "     'transcript': 'pipeline sequentially perform a series of transformations the last step carries out a prediction first we import all the modules we need then we import the library pipeline we create a list of topples the first element in the topple contains the name of the estimator model the second element contains model constructor we input the list in the pipeline constructor we now have a pipeline object we can train the pipeline by applying the train method to the pipeline object we can also produce a prediction as well '}],\n",
       "   'final': True},\n",
       "  {'alternatives': [{'confidence': 0.89,\n",
       "     'transcript': 'the method normalizes the data performs a polynomial transform then outputs a prediction '}],\n",
       "   'final': True}],\n",
       " 'result_index': 0}"
      ]
     },
     "execution_count": 22,
     "metadata": {},
     "output_type": "execute_result"
    }
   ],
   "source": [
    "response.result"
   ]
  },
  {
   "cell_type": "code",
   "execution_count": 24,
   "metadata": {},
   "outputs": [
    {
     "data": {
      "text/html": [
       "<div>\n",
       "<style scoped>\n",
       "    .dataframe tbody tr th:only-of-type {\n",
       "        vertical-align: middle;\n",
       "    }\n",
       "\n",
       "    .dataframe tbody tr th {\n",
       "        vertical-align: top;\n",
       "    }\n",
       "\n",
       "    .dataframe thead th {\n",
       "        text-align: right;\n",
       "    }\n",
       "</style>\n",
       "<table border=\"1\" class=\"dataframe\">\n",
       "  <thead>\n",
       "    <tr style=\"text-align: right;\">\n",
       "      <th></th>\n",
       "      <th>confidence</th>\n",
       "      <th>transcript</th>\n",
       "    </tr>\n",
       "  </thead>\n",
       "  <tbody>\n",
       "    <tr>\n",
       "      <th>0</th>\n",
       "      <td>0.93</td>\n",
       "      <td>in this video we will cover polynomial regress...</td>\n",
       "    </tr>\n",
       "    <tr>\n",
       "      <th>1</th>\n",
       "      <td>0.90</td>\n",
       "      <td>what do we do when a linear model is not the b...</td>\n",
       "    </tr>\n",
       "    <tr>\n",
       "      <th>2</th>\n",
       "      <td>0.95</td>\n",
       "      <td>polynomial regression is a special case of the...</td>\n",
       "    </tr>\n",
       "    <tr>\n",
       "      <th>3</th>\n",
       "      <td>0.95</td>\n",
       "      <td>the model can be cubic which means the predict...</td>\n",
       "    </tr>\n",
       "    <tr>\n",
       "      <th>4</th>\n",
       "      <td>0.91</td>\n",
       "      <td>there also exists higher order polynomial regr...</td>\n",
       "    </tr>\n",
       "    <tr>\n",
       "      <th>5</th>\n",
       "      <td>0.89</td>\n",
       "      <td>let's look at an example from our data we gene...</td>\n",
       "    </tr>\n",
       "    <tr>\n",
       "      <th>6</th>\n",
       "      <td>0.92</td>\n",
       "      <td>in python we do this by using the poly fit fun...</td>\n",
       "    </tr>\n",
       "    <tr>\n",
       "      <th>7</th>\n",
       "      <td>0.90</td>\n",
       "      <td>negative one point five five seven X. one cute...</td>\n",
       "    </tr>\n",
       "    <tr>\n",
       "      <th>8</th>\n",
       "      <td>0.90</td>\n",
       "      <td>consider the feature shown here applying the m...</td>\n",
       "    </tr>\n",
       "    <tr>\n",
       "      <th>9</th>\n",
       "      <td>0.89</td>\n",
       "      <td>pipeline sequentially perform a series of tran...</td>\n",
       "    </tr>\n",
       "    <tr>\n",
       "      <th>10</th>\n",
       "      <td>0.89</td>\n",
       "      <td>the method normalizes the data performs a poly...</td>\n",
       "    </tr>\n",
       "  </tbody>\n",
       "</table>\n",
       "</div>"
      ],
      "text/plain": [
       "    confidence                                         transcript\n",
       "0         0.93  in this video we will cover polynomial regress...\n",
       "1         0.90  what do we do when a linear model is not the b...\n",
       "2         0.95  polynomial regression is a special case of the...\n",
       "3         0.95  the model can be cubic which means the predict...\n",
       "4         0.91  there also exists higher order polynomial regr...\n",
       "5         0.89  let's look at an example from our data we gene...\n",
       "6         0.92  in python we do this by using the poly fit fun...\n",
       "7         0.90  negative one point five five seven X. one cute...\n",
       "8         0.90  consider the feature shown here applying the m...\n",
       "9         0.89  pipeline sequentially perform a series of tran...\n",
       "10        0.89  the method normalizes the data performs a poly..."
      ]
     },
     "execution_count": 24,
     "metadata": {},
     "output_type": "execute_result"
    }
   ],
   "source": [
    "#from pandas.io.json import json_normalize\n",
    "from pandas import json_normalize\n",
    "\n",
    "json_normalize(response.result['results'],\"alternatives\")"
   ]
  },
  {
   "cell_type": "code",
   "execution_count": 26,
   "metadata": {},
   "outputs": [
    {
     "data": {
      "text/plain": [
       "<ibm_cloud_sdk_core.detailed_response.DetailedResponse at 0x7f0a60d1ceb8>"
      ]
     },
     "execution_count": 26,
     "metadata": {},
     "output_type": "execute_result"
    }
   ],
   "source": [
    "response"
   ]
  },
  {
   "cell_type": "markdown",
   "metadata": {},
   "source": [
    "<p>We can obtain the recognized text and assign it to the variable <code>recognized_text</code>:</p>"
   ]
  },
  {
   "cell_type": "code",
   "execution_count": 56,
   "metadata": {
    "collapsed": false,
    "jupyter": {
     "outputs_hidden": false
    }
   },
   "outputs": [
    {
     "data": {
      "text/plain": [
       "\"in this video we will cover polynomial regression and pipelines what do we do when a linear model is not the best fit for our data let's look into another type of regression model the polynomial regression we transform our data into a polynomial then use linear regression to fit the parameters that we will discuss pipelines pipelines are way to simplify your code polynomial regression is a special case of the general linear regression this method is beneficial for describing curvilinear relationships what is a curvilinear relationship it's what you get by squaring or setting higher order terms of the predictor variables in the model transforming the data the model can be quadratic which means the predictor variable in the model is squared we use a bracket to indicated as an exponent this is the second order polynomial regression with a figure representing the function the model can be cubic which means the predictor variable is cute this is the third order polynomial regression we see by examining the figure that the function has more variation there also exists higher order polynomial regressions when a good fit hasn't been achieved by second or third order we can see in figures how much the graphs change when we change the order of the polynomial regression the degree of the regression makes a big difference and can result in a better fit if you pick the right value in all cases the relationship between the variable in the parameter is always linear let's look at an example from our data we generate a polynomial regression model in python we do this by using the poly fit function in this example we develop a third order polynomial regression model base we can print out the model symbolic form for the model is given by the following expression negative one point five five seven X. one cute plus two hundred four point eight X. one squared plus eight thousand nine hundred sixty five X. one plus one point three seven times ten to the power of five we can also have multi dimensional polynomial linear regression the expression can get complicated here are just some of the terms for two dimensional second order polynomial none pies poly fit function cannot perform this type of regression we use the preprocessing librarian scikit learn to create a polynomial feature object the constructor takes the degree of the polynomial as a parameter then we transform the features into a polynomial feature with the fit underscore transform method let's do a more intuitive example consider the feature shown here applying the method we transform the data we now have a new set of features that are transformed version of our original features as that I mention of the data gets larger we may want to normalize multiple features as scikit learn instead we can use the preprocessing module to simplify many tasks for example we can standardize each feature simultaneously we import standard scaler we train the object fit the scale object then transform the data into a new data frame on a rate X. underscore scale there are more normalization methods available in the pre processing library as well as other transformations we can simplify our code by using a pipeline library there are many steps to getting a prediction for example normalization polynomial transform and linear regression we simplify the process using a pipeline pipeline sequentially perform a series of transformations the last step carries out a prediction first we import all the modules we need then we import the library pipeline we create a list of topples the first element in the topple contains the name of the estimator model the second element contains model constructor we input the list in the pipeline constructor we now have a pipeline object we can train the pipeline by applying the train method to the pipeline object we can also produce a prediction as well the method normalizes the data performs a polynomial transform then outputs a prediction \""
      ]
     },
     "execution_count": 56,
     "metadata": {},
     "output_type": "execute_result"
    }
   ],
   "source": [
    "recognized_text=response.result['results'][0][\"alternatives\"][0][\"transcript\"]\n",
    "#type(recognized_text)\n",
    "recognized_text\n",
    "\n",
    "for i in range(1,11):\n",
    "    recognized_text = recognized_text + response.result['results'][i][\"alternatives\"][0][\"transcript\"]\n",
    "\n",
    "recognized_text"
   ]
  },
  {
   "cell_type": "markdown",
   "metadata": {},
   "source": [
    "<h2 id=\"ref1\">Language Translator</h2>"
   ]
  },
  {
   "cell_type": "markdown",
   "metadata": {},
   "source": [
    "<p>First we import <code>LanguageTranslatorV3</code> from ibm_watson. For more information on the API click <a href=\"https://cloud.ibm.com/apidocs/speech-to-text?code=python\"> here</a></p>"
   ]
  },
  {
   "cell_type": "code",
   "execution_count": 58,
   "metadata": {},
   "outputs": [],
   "source": [
    "from ibm_watson import LanguageTranslatorV3"
   ]
  },
  {
   "cell_type": "markdown",
   "metadata": {},
   "source": [
    "<p>The service endpoint is based on the location of the service instance, we store the information in the variable URL. To find out which URL to use, view the service credentials.</p>"
   ]
  },
  {
   "cell_type": "code",
   "execution_count": 59,
   "metadata": {
    "collapsed": false,
    "jupyter": {
     "outputs_hidden": false
    }
   },
   "outputs": [],
   "source": [
    "#url_lt='https://gateway.watsonplatform.net/language-translator/api'\n",
    "url_lt = 'https://api.us-south.language-translator.watson.cloud.ibm.com/instances/e7a808c8-a403-49c3-b22e-321b79a40d28'"
   ]
  },
  {
   "cell_type": "markdown",
   "metadata": {},
   "source": [
    "<p>You require an API key, and you can obtain the key on the <a href=\"https://cloud.ibm.com/resources\">Dashboard</a>.</p>"
   ]
  },
  {
   "cell_type": "code",
   "execution_count": 60,
   "metadata": {
    "collapsed": false,
    "jupyter": {
     "outputs_hidden": false
    }
   },
   "outputs": [],
   "source": [
    "apikey_lt='82SDgqIXBMkesm9loV5I7QSs7ea5RfGFKiZmru9Vttom'"
   ]
  },
  {
   "cell_type": "markdown",
   "metadata": {},
   "source": [
    "<p>API requests require a version parameter that takes a date in the format version=YYYY-MM-DD. This lab describes the current version of Language Translator, 2018-05-01</p>"
   ]
  },
  {
   "cell_type": "code",
   "execution_count": 61,
   "metadata": {
    "collapsed": false,
    "jupyter": {
     "outputs_hidden": false
    }
   },
   "outputs": [],
   "source": [
    "version_lt='2018-05-01'"
   ]
  },
  {
   "cell_type": "markdown",
   "metadata": {},
   "source": [
    "<p>we create a  Language Translator object <code>language_translator</code>:</p>"
   ]
  },
  {
   "cell_type": "code",
   "execution_count": 62,
   "metadata": {
    "collapsed": false,
    "jupyter": {
     "outputs_hidden": false
    }
   },
   "outputs": [
    {
     "data": {
      "text/plain": [
       "<ibm_watson.language_translator_v3.LanguageTranslatorV3 at 0x7f0a60d59c50>"
      ]
     },
     "execution_count": 62,
     "metadata": {},
     "output_type": "execute_result"
    }
   ],
   "source": [
    "authenticator = IAMAuthenticator(apikey_lt)\n",
    "language_translator = LanguageTranslatorV3(version=version_lt,authenticator=authenticator)\n",
    "language_translator.set_service_url(url_lt)\n",
    "language_translator"
   ]
  },
  {
   "cell_type": "markdown",
   "metadata": {},
   "source": [
    "<p>We can get a Lists the languages that the service can identify.\n",
    "The method Returns the language code.  For example English (en) to  Spanis (es) and name of each language.</p>"
   ]
  },
  {
   "cell_type": "code",
   "execution_count": 64,
   "metadata": {
    "collapsed": false,
    "jupyter": {
     "outputs_hidden": false
    }
   },
   "outputs": [
    {
     "data": {
      "text/html": [
       "<div>\n",
       "<style scoped>\n",
       "    .dataframe tbody tr th:only-of-type {\n",
       "        vertical-align: middle;\n",
       "    }\n",
       "\n",
       "    .dataframe tbody tr th {\n",
       "        vertical-align: top;\n",
       "    }\n",
       "\n",
       "    .dataframe thead th {\n",
       "        text-align: right;\n",
       "    }\n",
       "</style>\n",
       "<table border=\"1\" class=\"dataframe\">\n",
       "  <thead>\n",
       "    <tr style=\"text-align: right;\">\n",
       "      <th></th>\n",
       "      <th>language</th>\n",
       "      <th>name</th>\n",
       "    </tr>\n",
       "  </thead>\n",
       "  <tbody>\n",
       "    <tr>\n",
       "      <th>0</th>\n",
       "      <td>af</td>\n",
       "      <td>Afrikaans</td>\n",
       "    </tr>\n",
       "    <tr>\n",
       "      <th>1</th>\n",
       "      <td>ar</td>\n",
       "      <td>Arabic</td>\n",
       "    </tr>\n",
       "    <tr>\n",
       "      <th>2</th>\n",
       "      <td>az</td>\n",
       "      <td>Azerbaijani</td>\n",
       "    </tr>\n",
       "    <tr>\n",
       "      <th>3</th>\n",
       "      <td>ba</td>\n",
       "      <td>Bashkir</td>\n",
       "    </tr>\n",
       "    <tr>\n",
       "      <th>4</th>\n",
       "      <td>be</td>\n",
       "      <td>Belarusian</td>\n",
       "    </tr>\n",
       "    <tr>\n",
       "      <th>...</th>\n",
       "      <td>...</td>\n",
       "      <td>...</td>\n",
       "    </tr>\n",
       "    <tr>\n",
       "      <th>70</th>\n",
       "      <td>uk</td>\n",
       "      <td>Ukrainian</td>\n",
       "    </tr>\n",
       "    <tr>\n",
       "      <th>71</th>\n",
       "      <td>ur</td>\n",
       "      <td>Urdu</td>\n",
       "    </tr>\n",
       "    <tr>\n",
       "      <th>72</th>\n",
       "      <td>vi</td>\n",
       "      <td>Vietnamese</td>\n",
       "    </tr>\n",
       "    <tr>\n",
       "      <th>73</th>\n",
       "      <td>zh</td>\n",
       "      <td>Simplified Chinese</td>\n",
       "    </tr>\n",
       "    <tr>\n",
       "      <th>74</th>\n",
       "      <td>zh-TW</td>\n",
       "      <td>Traditional Chinese</td>\n",
       "    </tr>\n",
       "  </tbody>\n",
       "</table>\n",
       "<p>75 rows × 2 columns</p>\n",
       "</div>"
      ],
      "text/plain": [
       "   language                 name\n",
       "0        af            Afrikaans\n",
       "1        ar               Arabic\n",
       "2        az          Azerbaijani\n",
       "3        ba              Bashkir\n",
       "4        be           Belarusian\n",
       "..      ...                  ...\n",
       "70       uk            Ukrainian\n",
       "71       ur                 Urdu\n",
       "72       vi           Vietnamese\n",
       "73       zh   Simplified Chinese\n",
       "74    zh-TW  Traditional Chinese\n",
       "\n",
       "[75 rows x 2 columns]"
      ]
     },
     "execution_count": 64,
     "metadata": {},
     "output_type": "execute_result"
    }
   ],
   "source": [
    "from pandas import json_normalize\n",
    "\n",
    "json_normalize(language_translator.list_identifiable_languages().get_result(), \"languages\")"
   ]
  },
  {
   "cell_type": "markdown",
   "metadata": {},
   "source": [
    "<p>We can use the method <code>translate</code> this will translate the text. The parameter text is the text. Model_id is the type of model we would like to use use we use list the the langwich . In this case, we set it to 'en-es' or English to Spanish. We get a Detailed Response object translation_response</p>"
   ]
  },
  {
   "cell_type": "code",
   "execution_count": 68,
   "metadata": {
    "collapsed": false,
    "jupyter": {
     "outputs_hidden": false
    }
   },
   "outputs": [
    {
     "data": {
      "text/plain": [
       "<ibm_cloud_sdk_core.detailed_response.DetailedResponse at 0x7f0a60ce9780>"
      ]
     },
     "execution_count": 68,
     "metadata": {},
     "output_type": "execute_result"
    }
   ],
   "source": [
    "translation_response = language_translator.translate(\\\n",
    "    text=recognized_text, model_id='en-hi')\n",
    "translation_response"
   ]
  },
  {
   "cell_type": "markdown",
   "metadata": {},
   "source": [
    "<p>The result is a dictionary.</p>"
   ]
  },
  {
   "cell_type": "code",
   "execution_count": 69,
   "metadata": {
    "collapsed": false,
    "jupyter": {
     "outputs_hidden": false
    }
   },
   "outputs": [
    {
     "data": {
      "text/plain": [
       "{'translations': [{'translation': 'इस वीडियो में हम बहुपद रीग्रेसन और पाइप लाइनों को कवर करेंगे जो हम करते हैं जब एक रैखिक मॉडल हमारे डेटा को एक दूसरे प्रकार के रीग्रेग्रेशन मॉडल में ले जाने योग्य नहीं है, हम अपने डेटा को एक बहुपद रीग्रेग्रेशन के रूप में परिणत करने के लिए रेखीय रेग्रेसन का उपयोग करते हैं, जो हम लाइनों की पाइपलाइनों को आसान बनाने के लिए एक विशेष मामला है कि अपने कोड बहुपद रीग्रेशन का एक विशेष मामला है एक विशेष मामला रेखीय प्रतिक्रमण का वर्णन करने के लिए इस विधि का एक विशेष मामला है । एक वक्ररेखीय संबंध है यह है कि क्या आप squaring या उच्च आदेश स्थापित करने के द्वारा मिलता है मॉडल को मॉडल में परिवर्तन करने वाले मॉडल का मान द्विघात हो सकता है, जिसका अर्थ होता है, जैसे कि मॉडल का प्रयोग एक प्रतिपादक के रूप में किया जाता है, यह दूसरा अनुक्रम बहुपद रीग्रेसन हो सकता है, जिसका अर्थ होता है, जैसे भविष्यसूचक चर को मान लिया जाता है, यह तीसरा अनुक्रम बहुपद रीग्रेसन है जो यह मान लिया जाता है कि समारोह में अधिक विविधता है, उच्च अनुक्रम बहुपद । अच्छी तरह से वापस जब एक अच्छा फिट नहीं किया गया है दूसरे या तीसरे क्रम में हम देख सकते हैं ग्राफ में जब हम बहुपद रीग्रेशन की डिग्री के क्रम में परिवर्तन एक बड़ा अंतर बनाता है और एक बेहतर फिट में बदल सकता है यदि आप सभी मामलों में चर हमेशा रैखिक हम एक बहुपद रीग्रेसन मॉडल का उपयोग अजगर में एक बहुपद रीग्रेसन मॉडल का उपयोग हम इस उदाहरण में एक बहुपद रीग्रेसन मॉडल का उपयोग कर हम एक तिहाई बहुपद रीग्रेसन मॉडल आधार का विकास कर सकते हैं हम प्रिंट कर सकते हैं मॉडल के लिए मॉडल प्रतीकात्मक रूप निम्नलिखित अभिव्यक्ति नकारात्मक एक अंक पांच द्वारा दिया गया है पांच सात X. एक प्यारा प्लस दो सौ चार बिंदु 8 X. एक squared प्लस आठ हजार नौ सौ साठ 5 एक्स. एक प्लस एक बिंदु तीन सात बार 10 हम भी मान सकते हैं के लिए बहु आयामी बहुपद रैखिक regressing में भी जटिल मिल सकता है के लिए दो आयामी द्वितीय क्रम बहुपद फिट फ़ंक्शन कोई भी pies के इस प्रकार का उपयोग नहीं करने के लिए एक बहुपद विशेषता वस्तु का उपयोग करने के लिए एक बहुपद संरचना सीखने के लिए एक बहुपद संरचना का उपयोग कर सकते हैं । कंस्ट्रक्टर एक पैरामीटर के रूप में बहुपद की डिग्री लेता है तो हम रूपांतरण उपयुक्त रेखांकित रूपांतरण विधि के साथ एक बहुपद विशेषता के रूप में सुविधाओं का एक अधिक सहज उदाहरण है, जो इस विधि को लागू करते हुए दिखाया गया है, जो हमारे द्वारा डेटा को परिवर्तित करने का एक नया सेट है, जो हमारे मूल लक्षणों का परिवर्तित संस्करण है, जैसा कि डेटा का उल्लेख करते हैं, हम एकाधिक सुविधाओं को सामान्य करना चाहते हैं, उदाहरण के लिए हम प्रीप्रोसेसिंग मॉड्यूल का उपयोग कर सकते हैं, उदाहरण के लिए कई कार्यों को सरल बनाने के लिए हम एक साथ प्रत्येक विशेषता का मानकीकरण कर सकते हैं, एक साथ हम आयात कर सकते हैं मानक स्केलर हम स्केल वस्तु को प्रशिक्षित करने के बाद डेटा को प्रशिक्षित करने के लिए एक नए में रूपांतरण एक दर X पर डाटा फ्रेम X. अंडरस्कोर स्केल के साथ-साथ पूर्व संसाधन पुस्तकालय में अधिक सामान्यीकरण विधि उपलब्ध हैं साथ ही हम एक पाइपलाइन लाइब्रेरी का उपयोग करके हमारे कोड को सरल कर सकते हैं, उदाहरण के लिए सामान्य बनाने के लिए एक अनुमान को सरल बनाने के लिए कई कदम हैं, हम एक पाइपलाइन पाइपलाइन का उपयोग करने की प्रक्रिया को सरल बनाने के लिए पिछले चरण एक भविष्यवाणी पहले किया गया है पहले से एक भविष्यवाणी है कि हम सभी मॉड्यूल हम आयात की जरूरत है कि आयात हम आयात लाइब्रेरी पाइप लाइन में हम शीर्ष पर सबसे पहले तत्व को शीर्ष पर रखते हैं । यदि हम पाइपलाइन के निर्माण में इनपुट को प्रशिक्षित कर सकते हैं, तो हम एक ऐसी भविष्यवाणी कर सकते हैं कि हम एक पाइपलाइन का उत्पादन कर सकते हैं, साथ ही हम एक अनुमान भी उत्पन्न कर सकते हैं कि डाटा का मान-मान भी मान लिया जाता है । '}],\n",
       " 'word_count': 671,\n",
       " 'character_count': 3960}"
      ]
     },
     "execution_count": 69,
     "metadata": {},
     "output_type": "execute_result"
    }
   ],
   "source": [
    "translation=translation_response.get_result()\n",
    "translation"
   ]
  },
  {
   "cell_type": "markdown",
   "metadata": {},
   "source": [
    "<p>We can obtain the actual translation as a string as follows:</p>"
   ]
  },
  {
   "cell_type": "code",
   "execution_count": 70,
   "metadata": {},
   "outputs": [
    {
     "data": {
      "text/plain": [
       "'इस वीडियो में हम बहुपद रीग्रेसन और पाइप लाइनों को कवर करेंगे जो हम करते हैं जब एक रैखिक मॉडल हमारे डेटा को एक दूसरे प्रकार के रीग्रेग्रेशन मॉडल में ले जाने योग्य नहीं है, हम अपने डेटा को एक बहुपद रीग्रेग्रेशन के रूप में परिणत करने के लिए रेखीय रेग्रेसन का उपयोग करते हैं, जो हम लाइनों की पाइपलाइनों को आसान बनाने के लिए एक विशेष मामला है कि अपने कोड बहुपद रीग्रेशन का एक विशेष मामला है एक विशेष मामला रेखीय प्रतिक्रमण का वर्णन करने के लिए इस विधि का एक विशेष मामला है । एक वक्ररेखीय संबंध है यह है कि क्या आप squaring या उच्च आदेश स्थापित करने के द्वारा मिलता है मॉडल को मॉडल में परिवर्तन करने वाले मॉडल का मान द्विघात हो सकता है, जिसका अर्थ होता है, जैसे कि मॉडल का प्रयोग एक प्रतिपादक के रूप में किया जाता है, यह दूसरा अनुक्रम बहुपद रीग्रेसन हो सकता है, जिसका अर्थ होता है, जैसे भविष्यसूचक चर को मान लिया जाता है, यह तीसरा अनुक्रम बहुपद रीग्रेसन है जो यह मान लिया जाता है कि समारोह में अधिक विविधता है, उच्च अनुक्रम बहुपद । अच्छी तरह से वापस जब एक अच्छा फिट नहीं किया गया है दूसरे या तीसरे क्रम में हम देख सकते हैं ग्राफ में जब हम बहुपद रीग्रेशन की डिग्री के क्रम में परिवर्तन एक बड़ा अंतर बनाता है और एक बेहतर फिट में बदल सकता है यदि आप सभी मामलों में चर हमेशा रैखिक हम एक बहुपद रीग्रेसन मॉडल का उपयोग अजगर में एक बहुपद रीग्रेसन मॉडल का उपयोग हम इस उदाहरण में एक बहुपद रीग्रेसन मॉडल का उपयोग कर हम एक तिहाई बहुपद रीग्रेसन मॉडल आधार का विकास कर सकते हैं हम प्रिंट कर सकते हैं मॉडल के लिए मॉडल प्रतीकात्मक रूप निम्नलिखित अभिव्यक्ति नकारात्मक एक अंक पांच द्वारा दिया गया है पांच सात X. एक प्यारा प्लस दो सौ चार बिंदु 8 X. एक squared प्लस आठ हजार नौ सौ साठ 5 एक्स. एक प्लस एक बिंदु तीन सात बार 10 हम भी मान सकते हैं के लिए बहु आयामी बहुपद रैखिक regressing में भी जटिल मिल सकता है के लिए दो आयामी द्वितीय क्रम बहुपद फिट फ़ंक्शन कोई भी pies के इस प्रकार का उपयोग नहीं करने के लिए एक बहुपद विशेषता वस्तु का उपयोग करने के लिए एक बहुपद संरचना सीखने के लिए एक बहुपद संरचना का उपयोग कर सकते हैं । कंस्ट्रक्टर एक पैरामीटर के रूप में बहुपद की डिग्री लेता है तो हम रूपांतरण उपयुक्त रेखांकित रूपांतरण विधि के साथ एक बहुपद विशेषता के रूप में सुविधाओं का एक अधिक सहज उदाहरण है, जो इस विधि को लागू करते हुए दिखाया गया है, जो हमारे द्वारा डेटा को परिवर्तित करने का एक नया सेट है, जो हमारे मूल लक्षणों का परिवर्तित संस्करण है, जैसा कि डेटा का उल्लेख करते हैं, हम एकाधिक सुविधाओं को सामान्य करना चाहते हैं, उदाहरण के लिए हम प्रीप्रोसेसिंग मॉड्यूल का उपयोग कर सकते हैं, उदाहरण के लिए कई कार्यों को सरल बनाने के लिए हम एक साथ प्रत्येक विशेषता का मानकीकरण कर सकते हैं, एक साथ हम आयात कर सकते हैं मानक स्केलर हम स्केल वस्तु को प्रशिक्षित करने के बाद डेटा को प्रशिक्षित करने के लिए एक नए में रूपांतरण एक दर X पर डाटा फ्रेम X. अंडरस्कोर स्केल के साथ-साथ पूर्व संसाधन पुस्तकालय में अधिक सामान्यीकरण विधि उपलब्ध हैं साथ ही हम एक पाइपलाइन लाइब्रेरी का उपयोग करके हमारे कोड को सरल कर सकते हैं, उदाहरण के लिए सामान्य बनाने के लिए एक अनुमान को सरल बनाने के लिए कई कदम हैं, हम एक पाइपलाइन पाइपलाइन का उपयोग करने की प्रक्रिया को सरल बनाने के लिए पिछले चरण एक भविष्यवाणी पहले किया गया है पहले से एक भविष्यवाणी है कि हम सभी मॉड्यूल हम आयात की जरूरत है कि आयात हम आयात लाइब्रेरी पाइप लाइन में हम शीर्ष पर सबसे पहले तत्व को शीर्ष पर रखते हैं । यदि हम पाइपलाइन के निर्माण में इनपुट को प्रशिक्षित कर सकते हैं, तो हम एक ऐसी भविष्यवाणी कर सकते हैं कि हम एक पाइपलाइन का उत्पादन कर सकते हैं, साथ ही हम एक अनुमान भी उत्पन्न कर सकते हैं कि डाटा का मान-मान भी मान लिया जाता है । '"
      ]
     },
     "execution_count": 70,
     "metadata": {},
     "output_type": "execute_result"
    }
   ],
   "source": [
    "spanish_translation =translation['translations'][0]['translation']\n",
    "spanish_translation "
   ]
  },
  {
   "cell_type": "markdown",
   "metadata": {},
   "source": [
    "<p>We can translate back to English</p>"
   ]
  },
  {
   "cell_type": "code",
   "execution_count": 71,
   "metadata": {},
   "outputs": [],
   "source": [
    "translation_new = language_translator.translate(text=spanish_translation ,model_id='hi-en').get_result()"
   ]
  },
  {
   "cell_type": "markdown",
   "metadata": {},
   "source": [
    "<p>We can obtain the actual translation as a string as follows:</p>"
   ]
  },
  {
   "cell_type": "code",
   "execution_count": 72,
   "metadata": {},
   "outputs": [
    {
     "data": {
      "text/plain": [
       "\"In this video we will cover polynomial regression and pipelines we do when a linear model does not fit our data into another type of regression model, we use linear regression to translate our data into a polynomial regression, which is a special case for easing the pipelines of the lines that we have a particular case of a particular case polynomial regression to describe a particular case of linear regression. There is a quadratic relationship if you get a squaring or high order model that model the model changes the model's value, which means that the model, as the model is used as an exponent, can be the second sequence polynomial regression, which means, as the predictor variable is assumed, this is the third sequence polynomial regression that is assumed to be versatile, high-sequence polynomial. Well back when a good fit is not done in the second or third order we can see the change in the order of degree of polynomial regression and can change in a better fit if you always use a polynomial regression model in Python using a polynomial regression model in all cases we can print a polynomial regression model in this example we can print a third polynomial regression model base we can print the model symbolically symbolic of the model Negative one point has been given by five seven X. One cute plus two hundred four points 8 x. A squared plus eight thousand nine hundred and sixty five X. For a plus one point three seven times 10 we can also assume multi-dimensional polynomial linear regressing to the linear regressing, the two-dimensional second order polynomial function can also use a polynomial structure to learn a polynomial structure to use a polynomial feature object to not use this type of pies. Constructor takes a degree of polynomial degree as a parameter, then we are a more intuitive example of features as a polynomial feature with the appropriate underline conversion method, which is shown applying this method, which is a new set of data converts by us, which is a modified version of our original features, such as the data that mentions data, we want to normalise multiple features, for example we can use the Preprocessing module, for example we can simplify several tasks to simplify Can standardize each attribute together, together we can import the standard scalar we scale object In order to train data after training, a new conversion to a new data frame X. Data frame X. Underscore can simplify our code along with X. Underscore scale at the same time we can simplify our code by using a pipeline library, for example simplifying an estimate for simplifying, we simplify the process to use a pipeline pipeline before the last step is a prediction ago that we all need to import the module Is that we put the first element on top in the import library pipeline at the top. If we can train input in the construction of the pipeline, we can make a prediction that we can produce a pipeline, but we can also generate an estimate that the value of data is also assumed. \""
      ]
     },
     "execution_count": 72,
     "metadata": {},
     "output_type": "execute_result"
    }
   ],
   "source": [
    "translation_eng=translation_new['translations'][0]['translation']\n",
    "translation_eng"
   ]
  },
  {
   "cell_type": "markdown",
   "metadata": {},
   "source": [
    "<p>We can convert it to french as well:</p>"
   ]
  },
  {
   "cell_type": "code",
   "execution_count": 73,
   "metadata": {},
   "outputs": [],
   "source": [
    "French_translation=language_translator.translate(\n",
    "    text=translation_eng , model_id='en-fr').get_result()"
   ]
  },
  {
   "cell_type": "code",
   "execution_count": 74,
   "metadata": {},
   "outputs": [
    {
     "data": {
      "text/plain": [
       "\"Dans cette vidéo, nous couvrirons la régression polynomiale et les pipelines que nous faisons lorsqu'un modèle linéaire ne correspond pas à nos données dans un autre type de modèle de régression, nous utilisons une régression linéaire pour traduire nos données en régression polynomiale, ce qui est un cas particulier pour faciliter les pipelines des lignes que nous avons un cas particulier d'une régression polynomiale particulière pour décrire un cas particulier de régression linéaire. Il existe une relation quadratique si vous obtenez un modèle de quadrature ou d'ordre élevé qui modéle le modèle modifie la valeur du modèle, ce qui signifie que le modèle, comme le modèle est utilisé comme un exposant, peut être la deuxième régression polynomiale de séquence, ce qui signifie que, comme la variable de prédicteur est supposée, il s'agit de la troisième régression polynomiale qui est supposée être polyvalente, polynomiale à séquence élevée. Eh bien, quand un bon ajustement n'est pas fait dans le deuxième ou le troisième ordre, nous pouvons voir le changement dans l'ordre du degré de régression polynomiale et peut changer dans un meilleur ajustement si vous utilisez toujours un modèle de régression polynomiale en Python à l'aide d'un modèle de régression polynomiale dans tous les cas nous pouvons imprimer un modèle de régression polynomiale dans cet exemple nous pouvons imprimer une troisième base modèle de régression polynomiale nous pouvons imprimer le modèle symboliquement symbolique du modèle Un point négatif a été donné par cinq sept X. Un mignon plus Deux cent quatre points 8 x. Un carré plus huit mille neuf cent soixante cinq X. Pour un plus un point trois sept fois 10 nous pouvons aussi supposer une régression linéaire polynomiale multidimensionnelle à la régression linéaire, la fonction polynomiale à deux dimensions de second ordre peut aussi utiliser une structure polynomiale pour apprendre une structure polynomiale pour utiliser un objet de fonction polynomial pour ne pas utiliser ce type de tartes. Constructeur prend un certain degré de polynôme comme paramètre, puis nous sommes un exemple plus intuitif de fonctionnalités comme une fonction polynomiale avec la méthode de conversion de soulignement appropriée, qui s'affiche en appliquant cette méthode, qui est un nouvel ensemble de données converties par nous, qui est une version modifiée de nos fonctionnalités d'origine, telles que les données qui mentionnent des données, nous voulons normaliser plusieurs fonctionnalités, par exemple nous pouvons utiliser le module Preprocessing, par exemple nous pouvons simplifier plusieurs tâches pour simplifier Can Standardiser chaque attribut ensemble, ensemble nous pouvons importer le scalaire standard que nous échelons Objet Afin de former des données après la formation, une nouvelle conversion à un nouveau cadre de données X. Cadre de données X. Le soulignat peut simplifier notre code avec X. Une échelle de sous-cotation en même temps que nous pouvons simplifier notre code en utilisant une bibliothèque de pipeline, par exemple simplifier une estimation pour simplifier, nous simplifient le processus d'utilisation d'un pipeline de pipeline avant la dernière étape est une prédiction il y a un certain temps que nous avons tous besoin d'importer le module Est ce que nous avons placé le premier élément en haut dans le pipeline de la bibliothèque d'importation en haut. Si nous pouvons former des entrées dans la construction du pipeline, nous pouvons faire une prédiction que nous pouvons produire un pipeline, mais nous pouvons aussi générer une estimation que la valeur des données est également supposée. \""
      ]
     },
     "execution_count": 74,
     "metadata": {},
     "output_type": "execute_result"
    }
   ],
   "source": [
    "French_translation['translations'][0]['translation']"
   ]
  },
  {
   "cell_type": "markdown",
   "metadata": {},
   "source": [
    "<h3>Language Translator</h3>"
   ]
  },
  {
   "cell_type": "markdown",
   "metadata": {},
   "source": [
    " <a href=\"http://cocl.us/NotebooksPython101bottom\"><img src=\"https://ibm.box.com/shared/static/irypdxea2q4th88zu1o1tsd06dya10go.png\" width=\"750\" align=\"center\"></a>"
   ]
  },
  {
   "cell_type": "markdown",
   "metadata": {},
   "source": [
    "<b>References</b>"
   ]
  },
  {
   "cell_type": "markdown",
   "metadata": {},
   "source": [
    "https://cloud.ibm.com/apidocs/speech-to-text?code=python"
   ]
  },
  {
   "cell_type": "markdown",
   "metadata": {},
   "source": [
    "https://cloud.ibm.com/apidocs/language-translator?code=python"
   ]
  },
  {
   "cell_type": "markdown",
   "metadata": {},
   "source": [
    "<hr>"
   ]
  },
  {
   "cell_type": "markdown",
   "metadata": {},
   "source": [
    "<h4>About the Author:</h4>\n",
    "<p><a href=\"https://www.linkedin.com/in/joseph-s-50398b136/\">Joseph Santarcangelo</a> has a PhD in Electrical Engineering, his research focused on using machine learning, signal processing, and computer vision to determine how videos impact human cognition. Joseph has been working for IBM since he completed his PhD.</p>"
   ]
  },
  {
   "cell_type": "markdown",
   "metadata": {},
   "source": [
    "Other contributor: <a href=\"https://www.linkedin.com/in/fanjiang0619/\">Fan Jiang</a>"
   ]
  },
  {
   "cell_type": "markdown",
   "metadata": {},
   "source": [
    "Copyright &copy; 2019 [cognitiveclass.ai](https:cognitiveclass.ai). This notebook and its source code are released under the terms of the [MIT License](cognitiveclass.ai)."
   ]
  }
 ],
 "metadata": {
  "kernelspec": {
   "display_name": "Python",
   "language": "python",
   "name": "conda-env-python-py"
  },
  "language_info": {
   "codemirror_mode": {
    "name": "ipython",
    "version": 3
   },
   "file_extension": ".py",
   "mimetype": "text/x-python",
   "name": "python",
   "nbconvert_exporter": "python",
   "pygments_lexer": "ipython3",
   "version": "3.6.10"
  }
 },
 "nbformat": 4,
 "nbformat_minor": 4
}
